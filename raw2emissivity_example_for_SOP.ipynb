{
 "cells": [
  {
   "cell_type": "markdown",
   "id": "639e04d5-984e-4671-ba4d-f62ec6469d51",
   "metadata": {},
   "source": [
    "# Post-processing VERTEX 70 data to emissivity\n",
    "\n",
    "This notebook makes use of the [brukeropusreader](https://github.com/qedsoftware/brukeropusreader) package to process the raw OPUS files to emissivity.\n",
    "\n",
    "This is an example script only, therefore you will need to edit this as appropriate (file paths etc).\n",
    "\n",
    "* Author: Mary Langsdale (KCL)\n",
    "* Date: August 2024\n",
    "\n",
    "## Getting started\n",
    "\n",
    "First let's read in the functions we need. This includes some functions that we've defined here, namely `calc_f_hole`, `calc_sphere_corr` and `raw2emi`.\n",
    "\n",
    "`calc_f_hole` and `calc_sphere_corr` are both functions related to the substituton error correction."
   ]
  },
  {
   "cell_type": "code",
   "execution_count": null,
   "id": "dbbca004-422f-4a6d-be32-7a492a5b2cd8",
   "metadata": {},
   "outputs": [],
   "source": []
  }
 ],
 "metadata": {
  "kernelspec": {
   "display_name": "Python 3 (ipykernel)",
   "language": "python",
   "name": "python3"
  },
  "language_info": {
   "codemirror_mode": {
    "name": "ipython",
    "version": 3
   },
   "file_extension": ".py",
   "mimetype": "text/x-python",
   "name": "python",
   "nbconvert_exporter": "python",
   "pygments_lexer": "ipython3",
   "version": "3.8.12"
  }
 },
 "nbformat": 4,
 "nbformat_minor": 5
}
